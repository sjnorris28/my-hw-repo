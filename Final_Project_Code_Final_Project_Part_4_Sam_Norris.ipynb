{
 "cells": [
  {
   "cell_type": "code",
   "execution_count": 1,
   "metadata": {
    "collapsed": true
   },
   "outputs": [],
   "source": [
    "# Preliminary Imports"
   ]
  },
  {
   "cell_type": "code",
   "execution_count": 1,
   "metadata": {
    "collapsed": true
   },
   "outputs": [],
   "source": [
    "import pandas as pd\n",
    "from pandas.io import sql"
   ]
  },
  {
   "cell_type": "code",
   "execution_count": 2,
   "metadata": {
    "collapsed": true
   },
   "outputs": [],
   "source": [
    "import sqlite3"
   ]
  },
  {
   "cell_type": "code",
   "execution_count": 4,
   "metadata": {
    "collapsed": true
   },
   "outputs": [],
   "source": [
    "# Data upload:\n",
    "# “Zip_time_series”, \"population_by_zip_2000\", \"population_by_zip_2010\" @ C:\\Users\\Sam Norris\\Desktop\\General Assembly\\Final Project"
   ]
  },
  {
   "cell_type": "code",
   "execution_count": 3,
   "metadata": {
    "collapsed": true
   },
   "outputs": [],
   "source": [
    "# Import Datasets\n",
    "ZipCode = pd.read_csv(r'C:\\Users\\Sam Norris\\Desktop\\General Assembly\\Final Project\\Zip_time_series.csv')\n",
    "Pop2000 = pd.read_csv(r'C:\\Users\\Sam Norris\\Desktop\\General Assembly\\Final Project\\population_by_zip_2000.csv')\n",
    "Pop2010 = pd.read_csv(r'C:\\Users\\Sam Norris\\Desktop\\General Assembly\\Final Project\\population_by_zip_2010.csv')"
   ]
  },
  {
   "cell_type": "code",
   "execution_count": 6,
   "metadata": {
    "collapsed": true
   },
   "outputs": [],
   "source": [
    "# Data cleaning for \"Zip_time_series\": \n",
    "# For all zip codes in \"Zip_time_series\" with only 4 integers, add a \"0\" to the front of the integer\n",
    "# Delete all data prior to the year 2000 (or where majority of data for the following metrics begin)\n",
    "    # MedianListingPrice_1Bedroom, MedianListingPrice_2Bedroom, MedianListingPrice_3Bedroom, \n",
    "    # MedianListingPrice_4Bedroom, MedianListingPrice_5BedroomOrMore, \n",
    "    # PriceToRentRatio_AllHomes, HomesSoldAsForeclosuresRatio_AllHomes\n",
    "# If needed: Transpose data so that size of home (i.e. 1Bedroom, 2 Bedroom) is a singular dimension called \"Size of Home\""
   ]
  },
  {
   "cell_type": "code",
   "execution_count": null,
   "metadata": {
    "collapsed": true
   },
   "outputs": [],
   "source": [
    "# Check data import\n",
    "ZipCode.head(10)"
   ]
  },
  {
   "cell_type": "code",
   "execution_count": 5,
   "metadata": {
    "collapsed": true
   },
   "outputs": [],
   "source": [
    "# Clean zip code field: for all zip codes in \"Zip_time_series\" with only 4 integers, add a \"0\" to the front of the integer\n",
    "import io\n",
    "ZipCode[\"RegionName\"] = ZipCode.RegionName.map(\"{:05}\".format)"
   ]
  },
  {
   "cell_type": "code",
   "execution_count": 9,
   "metadata": {
    "collapsed": true
   },
   "outputs": [],
   "source": [
    "# Delete all data prior to the year 2010 (or where majority of data for the following metrics begin)\n",
    "    # MedianListingPrice_1Bedroom, MedianListingPrice_2Bedroom, MedianListingPrice_3Bedroom, \n",
    "    # MedianListingPrice_4Bedroom, MedianListingPrice_5BedroomOrMore, \n",
    "    # PriceToRentRatio_AllHomes, HomesSoldAsForeclosuresRatio_AllHomes\n"
   ]
  },
  {
   "cell_type": "code",
   "execution_count": 10,
   "metadata": {
    "collapsed": true
   },
   "outputs": [],
   "source": [
    "pd.set_option('display.max_columns',100)"
   ]
  },
  {
   "cell_type": "code",
   "execution_count": null,
   "metadata": {
    "collapsed": true
   },
   "outputs": [],
   "source": [
    "ZipCode[ZipCode.MedianListingPrice_2Bedroom.notnull()].sort_values('Date').head(10)"
   ]
  },
  {
   "cell_type": "code",
   "execution_count": null,
   "metadata": {
    "collapsed": true
   },
   "outputs": [],
   "source": [
    "# Filtering out 2 years post-recession and 2017\n",
    "ZipCode = ZipCode[(ZipCode['Date'] > '2010-01-01') & (ZipCode['Date'] < '2017-01-01')]\n",
    "ZipCode"
   ]
  },
  {
   "cell_type": "code",
   "execution_count": null,
   "metadata": {
    "collapsed": true
   },
   "outputs": [],
   "source": [
    "# Check updated data\n",
    "ZipCode"
   ]
  },
  {
   "cell_type": "code",
   "execution_count": 14,
   "metadata": {
    "collapsed": true
   },
   "outputs": [],
   "source": [
    "# Reshape data into yearly mean\n",
    "import numpy as np\n",
    "\n",
    "def yearlymean(ZipCode):\n",
    "    data = np.load(ZipCode)\n",
    "    data = data.reshape((12, 7))\n",
    "    print data.mean(axis=1)\n",
    "    return data.mean(axis=1)\n",
    "\n"
   ]
  },
  {
   "cell_type": "code",
   "execution_count": null,
   "metadata": {
    "collapsed": true
   },
   "outputs": [],
   "source": [
    "# Add Year to left of \"Date\" field and aggregate by year\n",
    "ZipCode.Date = pd.to_datetime(ZipCode.Date)\n",
    "ZipCode.set_index('Date').resample('A')['MedianListingPrice_2Bedroom', 'MedianListingPrice_3Bedroom', 'MedianListingPrice_4Bedroom', \n",
    "                                        'MedianListingPrice_5BedroomOrMore'].mean()"
   ]
  },
  {
   "cell_type": "code",
   "execution_count": null,
   "metadata": {
    "collapsed": true
   },
   "outputs": [],
   "source": [
    "# Add Year to left of \"Date\" field and aggregate by year\n",
    "ZipCode.Date = pd.to_datetime(ZipCode.Date)\n",
    "ZipCode.set_index('Date').resample('A')['MedianListingPrice_2Bedroom', 'MedianListingPrice_3Bedroom', 'MedianListingPrice_4Bedroom', \n",
    "                                        'MedianListingPrice_5BedroomOrMore'].mean()"
   ]
  },
  {
   "cell_type": "code",
   "execution_count": null,
   "metadata": {
    "collapsed": true
   },
   "outputs": [],
   "source": [
    "ZipCode.Date = ZipCode.Date[:4]\n",
    "ZipCode.Date"
   ]
  },
  {
   "cell_type": "code",
   "execution_count": null,
   "metadata": {
    "collapsed": true
   },
   "outputs": [],
   "source": [
    "# Pivot data for new DF\n",
    "ZCData = pd.pivot_table(ZipCode, ['MedianListingPrice_2Bedroom', 'MedianListingPrice_3Bedroom', 'MedianListingPrice_4Bedroom', 'MedianListingPrice_5BedroomOrMore',\n",
    "                         'PriceToRentRatio_AllHomes', 'HomesSoldAsForeclosuresRatio_AllHomes'], ['RegionName', 'Date'])\n",
    "ZCData"
   ]
  },
  {
   "cell_type": "code",
   "execution_count": null,
   "metadata": {
    "collapsed": true
   },
   "outputs": [],
   "source": [
    "ZipCode1 = ZipCode.groupby('RegionName').apply(lambda x: x.set_index('Date').resample('A')['MedianListingPrice_2Bedroom', 'MedianListingPrice_3Bedroom', 'MedianListingPrice_4Bedroom', 'MedianListingPrice_5BedroomOrMore',\n",
    "                         'PriceToRentRatio_AllHomes', 'HomesSoldAsForeclosuresRatio_AllHomes'].mean())\n",
    "ZipCode1.to_csv('ZipcodeFinal.csv')"
   ]
  },
  {
   "cell_type": "code",
   "execution_count": null,
   "metadata": {
    "collapsed": true
   },
   "outputs": [],
   "source": [
    "# Data cleaning for \"population_by_zip_2000\" & \"population_by_zip_2010\":\n",
    "# Append 2000 and 2010 census data and add a new field to denote year of data\n",
    "# For all zip codes in \"population_by_zip_20XX\" with only 4 integers, add a \"0\" to the front of the integer\n",
    "    # Delete any zip codes with only 3 integers\n",
    "    # Delete all rows with blanks for gender\n",
    "# Pivot in SQL by zip code and sum population"
   ]
  },
  {
   "cell_type": "code",
   "execution_count": null,
   "metadata": {
    "collapsed": true,
    "scrolled": true
   },
   "outputs": [],
   "source": [
    "Pop2000.head()"
   ]
  },
  {
   "cell_type": "code",
   "execution_count": null,
   "metadata": {
    "collapsed": true,
    "scrolled": true
   },
   "outputs": [],
   "source": [
    "Pop2000"
   ]
  },
  {
   "cell_type": "code",
   "execution_count": null,
   "metadata": {
    "collapsed": true
   },
   "outputs": [],
   "source": [
    "# Removing blanks in \"gender\" field\n",
    "Pop00 = Pop2000[Pop2000.gender.notnull()]\n",
    "Pop00"
   ]
  },
  {
   "cell_type": "code",
   "execution_count": null,
   "metadata": {
    "collapsed": true,
    "scrolled": true
   },
   "outputs": [],
   "source": [
    "# Clean and aggregate 2000 Census data\n",
    "Pop00 = Pop2000[Pop2000.gender.notnull()]\n",
    "Pop00 = Pop2000.groupby('zipcode')['population'].sum()"
   ]
  },
  {
   "cell_type": "code",
   "execution_count": null,
   "metadata": {
    "collapsed": true
   },
   "outputs": [],
   "source": [
    "Pop2010.head()"
   ]
  },
  {
   "cell_type": "code",
   "execution_count": null,
   "metadata": {
    "collapsed": true
   },
   "outputs": [],
   "source": [
    "# For all zip codes in \"Pop2010\" with only 3-4 integers, add a \"0\" to the front of the integer\n",
    "import io\n",
    "Pop2010[\"zipcode\"] = Pop2010.zipcode.map(\"{:05}\".format)"
   ]
  },
  {
   "cell_type": "code",
   "execution_count": null,
   "metadata": {
    "collapsed": true,
    "scrolled": true
   },
   "outputs": [],
   "source": [
    "# Clean and aggregate 2010 Census data\n",
    "Pop10 = Pop2010[Pop2010.gender.notnull()]\n",
    "Pop10 = Pop2010.groupby('zipcode')['population'].sum()"
   ]
  },
  {
   "cell_type": "code",
   "execution_count": null,
   "metadata": {
    "collapsed": true
   },
   "outputs": [],
   "source": [
    "Merged_Pop = pd.read_csv(r'C:\\Users\\Sam Norris\\Desktop\\General Assembly\\Final Project\\Merged_Pop.csv')"
   ]
  },
  {
   "cell_type": "code",
   "execution_count": null,
   "metadata": {
    "collapsed": true
   },
   "outputs": [],
   "source": [
    "Merged_Pop.head()"
   ]
  },
  {
   "cell_type": "code",
   "execution_count": 11,
   "metadata": {
    "collapsed": true
   },
   "outputs": [],
   "source": [
    "Master = pd.read_csv(r'C:\\Users\\Sam Norris\\Desktop\\General Assembly\\Final Project\\Master.csv')"
   ]
  },
  {
   "cell_type": "code",
   "execution_count": null,
   "metadata": {
    "collapsed": true
   },
   "outputs": [],
   "source": [
    "Master.head()"
   ]
  },
  {
   "cell_type": "code",
   "execution_count": null,
   "metadata": {
    "collapsed": true
   },
   "outputs": [],
   "source": [
    "# Sorting by L6Y YoY Avg. RANKER\n",
    "Master.groupby('House').apply(lambda x: x.sort_values('L6Y YoY Avg.', ascending=False).head(10))"
   ]
  },
  {
   "cell_type": "code",
   "execution_count": null,
   "metadata": {
    "collapsed": true
   },
   "outputs": [],
   "source": [
    "# Add Year to left of \"Date\" field and aggregate by year\n",
    "ZipCode.Date = pd.to_datetime(ZipCode.Date)\n",
    "ZipCode.set_index('Date').resample('A')['MedianListingPrice_2Bedroom', 'MedianListingPrice_3Bedroom', 'MedianListingPrice_4Bedroom', \n",
    "                                        'MedianListingPrice_5BedroomOrMore'].mean()"
   ]
  },
  {
   "cell_type": "code",
   "execution_count": null,
   "metadata": {
    "collapsed": true,
    "scrolled": true
   },
   "outputs": [],
   "source": [
    "from matplotlib import pyplot as plt  \n",
    "%matplotlib inline  \n",
    "\n",
    "ZipCode.Date = pd.to_datetime(ZipCode.Date)\n",
    "HouseAvg = ZipCode.set_index('Date').resample('A')['MedianListingPrice_2Bedroom', 'MedianListingPrice_3Bedroom', 'MedianListingPrice_4Bedroom', \n",
    "                                        'MedianListingPrice_5BedroomOrMore'].mean()"
   ]
  },
  {
   "cell_type": "code",
   "execution_count": null,
   "metadata": {
    "collapsed": true
   },
   "outputs": [],
   "source": [
    "# Plotting above\n",
    "\n",
    "HouseAvg[['Date', 'MedianListingPrice_2Bedroom', 'MedianListingPrice_3Bedroom', 'MedianListingPrice_4Bedroom', \n",
    "          'MedianListingPrice_5BedroomOrMore']].groupby('Date').mean().plot()"
   ]
  },
  {
   "cell_type": "code",
   "execution_count": null,
   "metadata": {
    "collapsed": true
   },
   "outputs": [],
   "source": [
    "HouseAvg = HouseAvg[['Date', 'MedianListingPrice_2Bedroom', 'MedianListingPrice_3Bedroom', 'MedianListingPrice_4Bedroom', \n",
    "                                        'MedianListingPrice_5BedroomOrMore']].groupby('Date').plot()"
   ]
  },
  {
   "cell_type": "code",
   "execution_count": null,
   "metadata": {
    "collapsed": true
   },
   "outputs": [],
   "source": [
    "HouseAvg = HouseAvg.reset_index('Date').resample('A')['MedianListingPrice_2Bedroom', 'MedianListingPrice_3Bedroom', 'MedianListingPrice_4Bedroom', \n",
    "                                        'MedianListingPrice_5BedroomOrMore'].mean()"
   ]
  },
  {
   "cell_type": "code",
   "execution_count": null,
   "metadata": {
    "collapsed": true
   },
   "outputs": [],
   "source": [
    "PopMaster = pd.read_csv(r'C:\\Users\\Sam Norris\\Desktop\\General Assembly\\Final Project\\PopMaster.csv')"
   ]
  },
  {
   "cell_type": "code",
   "execution_count": 18,
   "metadata": {
    "collapsed": true
   },
   "outputs": [],
   "source": [
    "L6Y = pd.read_csv(r'C:\\Users\\Sam Norris\\Desktop\\General Assembly\\Final Project\\L6Y YoY Avg..csv')"
   ]
  },
  {
   "cell_type": "code",
   "execution_count": null,
   "metadata": {
    "collapsed": true
   },
   "outputs": [],
   "source": [
    "L6Y.head()"
   ]
  },
  {
   "cell_type": "code",
   "execution_count": null,
   "metadata": {
    "collapsed": true
   },
   "outputs": [],
   "source": [
    "# Change format of cells to make ranker properly sort\n",
    "import numpy as np\n",
    "\n",
    "cols = ['MedianListingPrice_2Bedroom', 'MedianListingPrice_3Bedroom', 'MedianListingPrice_4Bedroom', 'MedianListingPrice_5BedroomOrMore']\n",
    "L6Y[cols] = L6Y[cols].apply(lambda x: float(x[:-1]) / 100 if pd.notnull(x) else np.nan)"
   ]
  },
  {
   "cell_type": "code",
   "execution_count": null,
   "metadata": {
    "collapsed": true
   },
   "outputs": [],
   "source": [
    "L6Y.sort_values('MedianListingPrice_2Bedroom', ascending=False).head(10)"
   ]
  },
  {
   "cell_type": "code",
   "execution_count": null,
   "metadata": {
    "collapsed": true
   },
   "outputs": [],
   "source": [
    "L6Y.sort_values(by='MedianListingPrice_3Bedroom', ascending=False)"
   ]
  },
  {
   "cell_type": "code",
   "execution_count": null,
   "metadata": {
    "collapsed": true
   },
   "outputs": [],
   "source": [
    "L6Y.sort_values(by='MedianListingPrice_4Bedroom', ascending=False)"
   ]
  },
  {
   "cell_type": "code",
   "execution_count": null,
   "metadata": {
    "collapsed": true,
    "scrolled": true
   },
   "outputs": [],
   "source": [
    "L6Y.sort_values(by='MedianListingPrice_5BedroomOrMore', ascending=False)"
   ]
  },
  {
   "cell_type": "code",
   "execution_count": null,
   "metadata": {
    "collapsed": true,
    "scrolled": true
   },
   "outputs": [],
   "source": [
    "L6Y.sort_values(by='PriceToRentRatio_AllHomes', ascending=False)"
   ]
  }
 ],
 "metadata": {
  "kernelspec": {
   "display_name": "Python 2",
   "language": "python",
   "name": "python2"
  },
  "language_info": {
   "codemirror_mode": {
    "name": "ipython",
    "version": 2
   },
   "file_extension": ".py",
   "mimetype": "text/x-python",
   "name": "python",
   "nbconvert_exporter": "python",
   "pygments_lexer": "ipython2",
   "version": "2.7.14"
  }
 },
 "nbformat": 4,
 "nbformat_minor": 2
}
