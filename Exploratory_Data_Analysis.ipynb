{
 "cells": [
  {
   "cell_type": "code",
   "execution_count": null,
   "metadata": {
    "collapsed": true
   },
   "outputs": [],
   "source": [
    "# Data upload:\n",
    "# “Zip_time_series”, \"population_by_zip_2000\", \"population_by_zip_2010\" @ C:\\Users\\Sam Norris\\Desktop\\General Assembly\\Final Project"
   ]
  },
  {
   "cell_type": "code",
   "execution_count": null,
   "metadata": {
    "collapsed": true
   },
   "outputs": [],
   "source": [
    "# Data cleaning for \"Zip_time_series\": \n",
    "# For all zip codes in \"Zip_time_series\" with only 4 integers, add a \"0\" to the front of the integer\n",
    "# Delete all data prior to the year 2000 (or where majority of data for the following metrics begin)\n",
    "    # MedianListingPrice_1Bedroom, MedianListingPrice_2Bedroom, MedianListingPrice_3Bedroom, \n",
    "    # MedianListingPrice_4Bedroom, MedianListingPrice_5BedroomOrMore, \n",
    "    # PriceToRentRatio_AllHomes, HomesSoldAsForeclosuresRatio_AllHomes\n",
    "# If needed: Transpose data so that size of home (i.e. 1Bedroom, 2 Bedroom) is a singular dimension called \"Size of Home\""
   ]
  },
  {
   "cell_type": "code",
   "execution_count": null,
   "metadata": {
    "collapsed": true
   },
   "outputs": [],
   "source": [
    "# Data cleaning for \"population_by_zip_2000\" & \"population_by_zip_2010\":\n",
    "# Append 2000 and 2010 census data and add a new field to denote year of data\n",
    "# For all zip codes in \"population_by_zip_20XX\" with only 4 integers, add a \"0\" to the front of the integer\n",
    "    # Delete any zip codes with only 3 integers\n",
    "    # Delete all rows with blanks for gender\n",
    "# Pivot in SQL by zip code and sum population\n",
    "# Bucket age into 20 year increments (0-19, 20-39, 40-59, 60-79, 80+)"
   ]
  },
  {
   "cell_type": "code",
   "execution_count": null,
   "metadata": {
    "collapsed": true
   },
   "outputs": [],
   "source": [
    "# Data enhancements/calculated fields:\n",
    "# Add field calculating MoM percentage change for each \"Size of Home\" for each zip code\n",
    "# Add field inserting 2000 census population data to January 2001 data and 2010 census population data to January 2011 data\n",
    "# Calculate MoM average difference from January 2001 and January 2011 data and extrapolate average increase or decrease to fill in rest of population dataset"
   ]
  }
 ],
 "metadata": {
  "kernelspec": {
   "display_name": "Python 2",
   "language": "python",
   "name": "python2"
  },
  "language_info": {
   "codemirror_mode": {
    "name": "ipython",
    "version": 2
   },
   "file_extension": ".py",
   "mimetype": "text/x-python",
   "name": "python",
   "nbconvert_exporter": "python",
   "pygments_lexer": "ipython2",
   "version": "2.7.14"
  }
 },
 "nbformat": 4,
 "nbformat_minor": 2
}
